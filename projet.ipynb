{
 "cells": [
  {
   "cell_type": "code",
   "execution_count": 1,
   "metadata": {},
   "outputs": [],
   "source": [
    "import cv2\n",
    "import numpy as np\n",
    "import os\n",
    "import csv"
   ]
  },
  {
   "cell_type": "code",
   "execution_count": null,
   "metadata": {},
   "outputs": [],
   "source": [
    "def detect_steps(image):\n",
    "    gray = cv2.cvtColor(image, cv2.COLOR_BGR2GRAY)\n",
    "    blurred = cv2.GaussianBlur(gray, (5, 5), 0)\n",
    "    equalized = cv2.equalizeHist(blurred)\n",
    "    edges = cv2.Canny(equalized, 50, 150)\n",
    "    lines = cv2.HoughLinesP(edges, 1, np.pi/180, threshold=120, minLineLength=100, maxLineGap=5)\n",
    "    \n",
    "    horizontal_lines = []\n",
    "    for line in lines:\n",
    "        x1, y1, x2, y2 = line[0]\n",
    "        angle = np.arctan2(y2 - y1, x2 - x1) * 180/np.pi\n",
    "        if abs(angle) < 10:\n",
    "            horizontal_lines.append(line)\n",
    "    \n",
    "    def group_lines(lines, threshold=20):\n",
    "        grouped = []\n",
    "        for line in lines:\n",
    "            _, y1, _, y2 = line[0]\n",
    "            y_center = (y1 + y2) / 2\n",
    "            if not grouped:\n",
    "                grouped.append([y_center, line])\n",
    "            else:\n",
    "                added = False\n",
    "                for group in grouped:\n",
    "                    if abs(y_center - group[0]) < threshold:\n",
    "                        group.append(line)\n",
    "                        added = True\n",
    "                        break\n",
    "                if not added:\n",
    "                    grouped.append([y_center, line])\n",
    "        return grouped\n",
    "    \n",
    "    grouped_lines = group_lines(horizontal_lines)\n",
    "    return len(grouped_lines)"
   ]
  },
  {
   "cell_type": "code",
   "execution_count": 3,
   "metadata": {},
   "outputs": [
    {
     "name": "stdout",
     "output_type": "stream",
     "text": [
      "Accuracy : 5.95%\n",
      "Resultats dans resultats.csv\n"
     ]
    }
   ],
   "source": [
    "image_folder = 'images'\n",
    "csv_file = 'data annotations - Feuille 1.csv'\n",
    "output_csv = 'resultats.csv'\n",
    "\n",
    "results = []\n",
    "correct_predictions = 0\n",
    "total_predictions = 0\n",
    "\n",
    "with open(csv_file, mode='r', encoding='utf-8') as file:\n",
    "    reader = csv.reader(file)\n",
    "\n",
    "    # on ignore les 2 premieres ligens\n",
    "    next(reader)\n",
    "    next(reader)\n",
    "    \n",
    "    for row in reader:\n",
    "        if len(row) < 2 or not row[0]:  # ignorer les lignes vides ou incompletes\n",
    "            continue\n",
    "        \n",
    "        image_name = row[0]\n",
    "        expected = int(row[1])\n",
    "\n",
    "        image_path = os.path.join(image_folder, image_name)\n",
    "        if not os.path.exists(image_path):\n",
    "            #print(f\"Erreur : fichier introuvable {image_name}, pas bien :(\")\n",
    "            continue\n",
    "        \n",
    "        # detection des marches\n",
    "        image = cv2.imread(image_path)\n",
    "        pred = detect_steps(image)\n",
    "\n",
    "        is_correct = pred == expected\n",
    "        if is_correct:\n",
    "            correct_predictions += 1\n",
    "        total_predictions += 1\n",
    "        results.append([image_name, expected, pred, is_correct])\n",
    "        #print(f\"Image : {image_name} | attendues : {expected} | detectees : {pred} | Correct : {is_correct}\")\n",
    "\n",
    "# calcule accuracy\n",
    "if total_predictions > 0:\n",
    "    accuracy = correct_predictions / total_predictions\n",
    "    print(f\"Accuracy : {accuracy * 100:.2f}%\")\n",
    "else:\n",
    "    print(\"C nul\")\n",
    "\n",
    "# sauvegarde\n",
    "with open(output_csv, mode='w', newline='', encoding='utf-8') as file:\n",
    "    writer = csv.writer(file)\n",
    "    writer.writerow(['Image', 'Marches attendues', 'Marches detectees', 'Correct'])\n",
    "    writer.writerows(results)\n",
    "print(f\"Resultats dans {output_csv}\")\n"
   ]
  }
 ],
 "metadata": {
  "kernelspec": {
   "display_name": "Python 3",
   "language": "python",
   "name": "python3"
  },
  "language_info": {
   "codemirror_mode": {
    "name": "ipython",
    "version": 3
   },
   "file_extension": ".py",
   "mimetype": "text/x-python",
   "name": "python",
   "nbconvert_exporter": "python",
   "pygments_lexer": "ipython3",
   "version": "3.10.4"
  }
 },
 "nbformat": 4,
 "nbformat_minor": 2
}
